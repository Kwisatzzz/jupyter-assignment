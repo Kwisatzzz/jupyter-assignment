{
 "cells": [
  {
   "cell_type": "markdown",
   "id": "75a9042f-3cff-4ed0-84c9-194fdc51193a",
   "metadata": {},
   "source": [
    "# Data Science Tools and Ecosystem"
   ]
  },
  {
   "cell_type": "markdown",
   "id": "9eb61043-45b1-4e18-8090-5de2f9627e05",
   "metadata": {},
   "source": [
    "In this notebook, Data Science Tools and Ecosystem are summarized.\n",
    "\n",
    "Objectives:\n",
    "- List popular data science programming languages\n",
    "- List commonly used data science libraries\n",
    "- Create one column table with open source data science tools\n",
    "- Evaluate simple arithmetic expressions\n",
    "- Convert minutes to hours\n",
    "\n",
    "## Author\n",
    "Adam Woch"
   ]
  },
  {
   "cell_type": "markdown",
   "id": "d292a320-6b2b-492f-9218-ae4920b54dfe",
   "metadata": {},
   "source": [
    "Some of the popular languages that Data Scientists use are:\n",
    "1. Python\n",
    "2. Julia\n",
    "3. R\n",
    "4. SQL"
   ]
  },
  {
   "cell_type": "markdown",
   "id": "e27e63e5-2604-4f9b-bf53-34a03003d33b",
   "metadata": {},
   "source": [
    "Some of the commonly used libraries used by Data Scientists include:\n",
    "1. NumPy\n",
    "2. Pandas\n",
    "3. Scikit-learn"
   ]
  },
  {
   "cell_type": "markdown",
   "id": "6694c094-9eb9-4874-b7dc-f8aed8786f64",
   "metadata": {},
   "source": [
    "| Data Science Tools |\n",
    "|--------------------|\n",
    "| Jupyter Notebooks  |\n",
    "| RStudio            |\n",
    "| Apache Zeppelin    |\n"
   ]
  },
  {
   "cell_type": "markdown",
   "id": "cbef4b41-cdd2-4304-8682-8f2c4be09710",
   "metadata": {},
   "source": [
    "### Below are a few examples of evaluating arithmetic expressions in Python in JupyterLab\n",
    "1. **Addition**:\n",
    "   `\n",
    "   2 + 2 = 4\n",
    "   `\n",
    "2. **Subtraction**:\n",
    "   `\n",
    "   2 - 2 = 0 \n",
    "   `\n",
    "3. **Multiplication**\n",
    "   `\n",
    "   2 * 2 = 4\n",
    "   `  "
   ]
  },
  {
   "cell_type": "code",
   "execution_count": 2,
   "id": "5f0b43cd-3801-41db-afd7-a35056549edb",
   "metadata": {},
   "outputs": [
    {
     "data": {
      "text/plain": [
       "17"
      ]
     },
     "execution_count": 2,
     "metadata": {},
     "output_type": "execute_result"
    }
   ],
   "source": [
    "# This a simple arithmetic expression to mutiply then add integers\n",
    "(3*4)+5"
   ]
  },
  {
   "cell_type": "code",
   "execution_count": 7,
   "id": "54e705e3-306a-4270-84ac-31c4ab7602f0",
   "metadata": {},
   "outputs": [
    {
     "data": {
      "text/plain": [
       "3.3333333333333335"
      ]
     },
     "execution_count": 7,
     "metadata": {},
     "output_type": "execute_result"
    }
   ],
   "source": [
    "#  This will convert 200 minutes to hours by diving by 60\n",
    "(200 / 60)"
   ]
  },
  {
   "cell_type": "code",
   "execution_count": null,
   "id": "ab8ba2c8-72b5-45cd-8324-c7d271bebd6d",
   "metadata": {},
   "outputs": [],
   "source": []
  }
 ],
 "metadata": {
  "kernelspec": {
   "display_name": "Python 3 (ipykernel)",
   "language": "python",
   "name": "python3"
  },
  "language_info": {
   "codemirror_mode": {
    "name": "ipython",
    "version": 3
   },
   "file_extension": ".py",
   "mimetype": "text/x-python",
   "name": "python",
   "nbconvert_exporter": "python",
   "pygments_lexer": "ipython3",
   "version": "3.11.4"
  }
 },
 "nbformat": 4,
 "nbformat_minor": 5
}
